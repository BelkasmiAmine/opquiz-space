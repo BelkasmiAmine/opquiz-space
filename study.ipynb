{
 "cells": [
  {
   "cell_type": "code",
   "execution_count": 14,
   "id": "7266ae1e-5b6a-4e63-9032-6aa5d73bb0b4",
   "metadata": {},
   "outputs": [],
   "source": [
    "import models as m\n",
    "import sqlalchemy as sa\n",
    "\n",
    "engine = sa.create_engine(\"sqlite:///quiz.db\")\n",
    "SessionMaker = sa.orm.sessionmaker(autocommit=False, autoflush=False, bind=engine)\n",
    "session = SessionMaker()"
   ]
  },
  {
   "cell_type": "code",
   "execution_count": 16,
   "id": "2665e3ff-40a8-4241-b333-f3dadb6e6a9d",
   "metadata": {},
   "outputs": [
    {
     "data": {
      "text/html": [
       "<pre style=\"white-space:pre;overflow-x:auto;line-height:normal;font-family:Menlo,'DejaVu Sans Mono',consolas,'Courier New',monospace\"><span style=\"color: #0000ff; text-decoration-color: #0000ff\">[</span>\n",
       "    <span style=\"color: #0000ff; text-decoration-color: #0000ff\">(</span><span style=\"font-weight: bold\">&lt;</span><span style=\"color: #ff00ff; text-decoration-color: #ff00ff; font-weight: bold\">Site</span><span style=\"color: #000000; text-decoration-color: #000000\"> n°</span><span style=\"color: #800080; text-decoration-color: #800080\">1</span><span style=\"color: #000000; text-decoration-color: #000000\"> - GigaWatt Llama Ranch&gt;,</span><span style=\"color: #0000ff; text-decoration-color: #0000ff\">)</span><span style=\"color: #000000; text-decoration-color: #000000\">,</span>\n",
       "<span style=\"color: #000000; text-decoration-color: #000000\">    </span><span style=\"color: #0000ff; text-decoration-color: #0000ff\">(</span><span style=\"color: #000000; text-decoration-color: #000000\">&lt;Site n°</span><span style=\"color: #800080; text-decoration-color: #800080\">2</span><span style=\"color: #000000; text-decoration-color: #000000\"> - Sunny Side of the Moon&gt;,</span><span style=\"color: #0000ff; text-decoration-color: #0000ff\">)</span><span style=\"color: #000000; text-decoration-color: #000000\">,</span>\n",
       "<span style=\"color: #000000; text-decoration-color: #000000\">    </span><span style=\"color: #0000ff; text-decoration-color: #0000ff\">(</span><span style=\"color: #000000; text-decoration-color: #000000\">&lt;Site n°</span><span style=\"color: #800080; text-decoration-color: #800080\">3</span><span style=\"color: #000000; text-decoration-color: #000000\"> - River Dance Powerhouse&gt;,</span><span style=\"color: #0000ff; text-decoration-color: #0000ff\">)</span><span style=\"color: #000000; text-decoration-color: #000000\">,</span>\n",
       "<span style=\"color: #000000; text-decoration-color: #000000\">    </span><span style=\"color: #0000ff; text-decoration-color: #0000ff\">(</span><span style=\"color: #000000; text-decoration-color: #000000\">&lt;Site n°</span><span style=\"color: #800080; text-decoration-color: #800080\">4</span><span style=\"color: #000000; text-decoration-color: #000000\"> - Turbine Nation Offshore&gt;,</span><span style=\"color: #0000ff; text-decoration-color: #0000ff\">)</span><span style=\"color: #000000; text-decoration-color: #000000\">,</span>\n",
       "<span style=\"color: #000000; text-decoration-color: #000000\">    </span><span style=\"color: #0000ff; text-decoration-color: #0000ff\">(</span><span style=\"color: #000000; text-decoration-color: #000000\">&lt;Site n°</span><span style=\"color: #800080; text-decoration-color: #800080\">5</span><span style=\"color: #000000; text-decoration-color: #000000\"> - Sunshine &amp; Chill Canopy&gt;,</span><span style=\"color: #0000ff; text-decoration-color: #0000ff\">)</span><span style=\"color: #000000; text-decoration-color: #000000\">,</span>\n",
       "<span style=\"color: #000000; text-decoration-color: #000000\">    </span><span style=\"color: #0000ff; text-decoration-color: #0000ff\">(</span><span style=\"color: #000000; text-decoration-color: #000000\">&lt;Site n°</span><span style=\"color: #800080; text-decoration-color: #800080\">6</span><span style=\"color: #000000; text-decoration-color: #000000\"> - Watts in the Attic&gt;,</span><span style=\"color: #0000ff; text-decoration-color: #0000ff\">)</span><span style=\"color: #000000; text-decoration-color: #000000\">,</span>\n",
       "<span style=\"color: #000000; text-decoration-color: #000000\">    </span><span style=\"color: #0000ff; text-decoration-color: #0000ff\">(</span><span style=\"color: #000000; text-decoration-color: #000000\">&lt;Site n°</span><span style=\"color: #800080; text-decoration-color: #800080\">7</span><span style=\"color: #000000; text-decoration-color: #000000\"> - Flow like a River&gt;,</span><span style=\"color: #0000ff; text-decoration-color: #0000ff\">)</span><span style=\"color: #000000; text-decoration-color: #000000\">,</span>\n",
       "<span style=\"color: #000000; text-decoration-color: #000000\">    </span><span style=\"color: #0000ff; text-decoration-color: #0000ff\">(</span><span style=\"color: #000000; text-decoration-color: #000000\">&lt;Site n°</span><span style=\"color: #800080; text-decoration-color: #800080\">8</span><span style=\"color: #000000; text-decoration-color: #000000\"> - Juicy Biomass Co-op&gt;,</span><span style=\"color: #0000ff; text-decoration-color: #0000ff\">)</span><span style=\"color: #000000; text-decoration-color: #000000\">,</span>\n",
       "<span style=\"color: #000000; text-decoration-color: #000000\">    </span><span style=\"color: #0000ff; text-decoration-color: #0000ff\">(</span><span style=\"color: #000000; text-decoration-color: #000000\">&lt;Site n°</span><span style=\"color: #800080; text-decoration-color: #800080\">9</span><span style=\"color: #000000; text-decoration-color: #000000\"> - Offshore Avengers&gt;,</span><span style=\"color: #0000ff; text-decoration-color: #0000ff\">)</span><span style=\"color: #000000; text-decoration-color: #000000\">,</span>\n",
       "<span style=\"color: #000000; text-decoration-color: #000000\">    </span><span style=\"color: #0000ff; text-decoration-color: #0000ff\">(</span><span style=\"color: #000000; text-decoration-color: #000000\">&lt;Site n°</span><span style=\"color: #800080; text-decoration-color: #800080\">10</span><span style=\"color: #000000; text-decoration-color: #000000\"> - Trash into Cash</span><span style=\"font-weight: bold\">&gt;</span>,<span style=\"color: #0000ff; text-decoration-color: #0000ff\">)</span>\n",
       "<span style=\"color: #0000ff; text-decoration-color: #0000ff\">]</span>\n",
       "</pre>\n"
      ],
      "text/plain": [
       "\u001b[94m[\u001b[0m\n",
       "    \u001b[94m(\u001b[0m\u001b[1m<\u001b[0m\u001b[1;95mSite\u001b[0m\u001b[39m n°\u001b[0m\u001b[35m1\u001b[0m\u001b[39m - GigaWatt Llama Ranch>,\u001b[0m\u001b[94m)\u001b[0m\u001b[39m,\u001b[0m\n",
       "\u001b[39m    \u001b[0m\u001b[94m(\u001b[0m\u001b[39m<Site n°\u001b[0m\u001b[35m2\u001b[0m\u001b[39m - Sunny Side of the Moon>,\u001b[0m\u001b[94m)\u001b[0m\u001b[39m,\u001b[0m\n",
       "\u001b[39m    \u001b[0m\u001b[94m(\u001b[0m\u001b[39m<Site n°\u001b[0m\u001b[35m3\u001b[0m\u001b[39m - River Dance Powerhouse>,\u001b[0m\u001b[94m)\u001b[0m\u001b[39m,\u001b[0m\n",
       "\u001b[39m    \u001b[0m\u001b[94m(\u001b[0m\u001b[39m<Site n°\u001b[0m\u001b[35m4\u001b[0m\u001b[39m - Turbine Nation Offshore>,\u001b[0m\u001b[94m)\u001b[0m\u001b[39m,\u001b[0m\n",
       "\u001b[39m    \u001b[0m\u001b[94m(\u001b[0m\u001b[39m<Site n°\u001b[0m\u001b[35m5\u001b[0m\u001b[39m - Sunshine & Chill Canopy>,\u001b[0m\u001b[94m)\u001b[0m\u001b[39m,\u001b[0m\n",
       "\u001b[39m    \u001b[0m\u001b[94m(\u001b[0m\u001b[39m<Site n°\u001b[0m\u001b[35m6\u001b[0m\u001b[39m - Watts in the Attic>,\u001b[0m\u001b[94m)\u001b[0m\u001b[39m,\u001b[0m\n",
       "\u001b[39m    \u001b[0m\u001b[94m(\u001b[0m\u001b[39m<Site n°\u001b[0m\u001b[35m7\u001b[0m\u001b[39m - Flow like a River>,\u001b[0m\u001b[94m)\u001b[0m\u001b[39m,\u001b[0m\n",
       "\u001b[39m    \u001b[0m\u001b[94m(\u001b[0m\u001b[39m<Site n°\u001b[0m\u001b[35m8\u001b[0m\u001b[39m - Juicy Biomass Co-op>,\u001b[0m\u001b[94m)\u001b[0m\u001b[39m,\u001b[0m\n",
       "\u001b[39m    \u001b[0m\u001b[94m(\u001b[0m\u001b[39m<Site n°\u001b[0m\u001b[35m9\u001b[0m\u001b[39m - Offshore Avengers>,\u001b[0m\u001b[94m)\u001b[0m\u001b[39m,\u001b[0m\n",
       "\u001b[39m    \u001b[0m\u001b[94m(\u001b[0m\u001b[39m<Site n°\u001b[0m\u001b[35m10\u001b[0m\u001b[39m - Trash into Cash\u001b[0m\u001b[1m>\u001b[0m,\u001b[94m)\u001b[0m\n",
       "\u001b[94m]\u001b[0m\n"
      ]
     },
     "metadata": {},
     "output_type": "display_data"
    }
   ],
   "source": [
    "# example query sites\n",
    "sites_query = sa.select(m.Site)\n",
    "sites = session.execute(sites_query).all()\n",
    "print(sites[:10])"
   ]
  },
  {
   "cell_type": "code",
   "execution_count": null,
   "id": "5095a054-5bc4-437a-a86b-f2a67264d667",
   "metadata": {},
   "outputs": [],
   "source": []
  }
 ],
 "metadata": {
  "kernelspec": {
   "display_name": "Python 3 (ipykernel)",
   "language": "python",
   "name": "python3"
  },
  "language_info": {
   "codemirror_mode": {
    "name": "ipython",
    "version": 3
   },
   "file_extension": ".py",
   "mimetype": "text/x-python",
   "name": "python",
   "nbconvert_exporter": "python",
   "pygments_lexer": "ipython3",
   "version": "3.12.6"
  }
 },
 "nbformat": 4,
 "nbformat_minor": 5
}
