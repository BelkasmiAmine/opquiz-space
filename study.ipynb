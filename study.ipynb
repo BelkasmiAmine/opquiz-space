{
 "cells": [
  {
   "cell_type": "markdown",
   "id": "e8c812ca",
   "metadata": {},
   "source": [
    "\n",
    "# Technical Test: Python and SQLAlchemy Proficiency\n",
    "\n",
    "## Objective\n",
    "\n",
    "This test is designed to assess your proficiency in Python programming and your understanding of Object-Relational Mapping (ORM) using SQLAlchemy. You will interact with a small database application in a Jupyter Notebook environment, showcasing your ability to manage and manipulate data effectively.\n",
    "\n",
    "## Test Environment\n",
    "\n",
    "The test will be conducted in a Jupyter Notebook hosted on GitHub. All necessary libraries, including SQLAlchemy, are pre-installed, and the environment is set up for you. You will work on a fork of the provided repository.\n",
    "\n",
    "## Test Overview\n",
    "\n",
    "You will complete a series of tasks that involve interacting with a small database application using Python and SQLAlchemy. The test will evaluate your ability to:\n",
    "\n",
    "1. **Implement ORM Models**: Create Python classes that map to database tables using SQLAlchemy ORM, including fields, relationships, and constraints.\n",
    "\n",
    "2. **Perform CRUD Operations**: Write Python code to perform Create, Read, Update, and Delete operations on the database using SQLAlchemy.\n",
    "\n",
    "3. **Query Optimization**: Demonstrate your ability to write efficient queries, utilizing SQLAlchemy features to optimize database access.\n",
    "\n",
    "4. **Handle Transactions**: Implement transaction management to ensure data integrity during complex operations.\n",
    "\n",
    "5. **Documentation and Code Quality**: Provide clear documentation and adhere to best practices in code structure and style.\n",
    "\n",
    "## Instructions\n",
    "\n",
    "1. **Fork the Repository**: Start by forking the provided GitHub repository to your own account.\n",
    "\n",
    "2. **Access the Jupyter Notebook**: Open the Jupyter Notebook in your forked repository to begin the test.\n",
    "\n",
    "3. **Complete the Tasks**: Follow the instructions in the notebook to complete each task. Ensure your code is functional and meets the specified requirements.\n",
    "\n",
    "4. **Use SQLAlchemy Documentation**: Refer to the [SQLAlchemy documentation](https://docs.sqlalchemy.org) as needed to assist with your implementation.\n",
    "\n",
    "5. **Commit Your Changes**: Once you have completed the tasks, commit your changes to your forked repository.\n",
    "\n",
    "6. **Submit Your Test**: Notify us by providing a link to your forked repository with your completed test.\n",
    "\n",
    "## Evaluation Criteria\n",
    "\n",
    "-  **Correctness**: The solution should meet all specified requirements and perform all operations correctly.\n",
    "-  **Code Quality**: Code should be clean, well-organized, and follow Python best practices.\n",
    "-  **Efficiency**: Solutions should be optimized for performance, especially in the context of database operations.\n",
    "-  **Problem Solving**: Demonstrated ability to effectively solve problems and make sound design decisions.\n",
    "-  **Documentation**: Clear and concise documentation that helps reviewers understand your approach and implementation.\n",
    "\n",
    "We look forward to reviewing your work and assessing your potential to contribute to our development team."
   ]
  },
  {
   "cell_type": "code",
   "execution_count": 14,
   "id": "7266ae1e-5b6a-4e63-9032-6aa5d73bb0b4",
   "metadata": {},
   "outputs": [],
   "source": [
    "import models as m\n",
    "import sqlalchemy as sa\n",
    "\n",
    "# First, let's connect to the database\n",
    "engine = sa.create_engine(\"sqlite:///quiz.db\")\n",
    "SessionMaker = sa.orm.sessionmaker(autocommit=False, autoflush=False, bind=engine)\n",
    "session = SessionMaker()"
   ]
  },
  {
   "cell_type": "code",
   "execution_count": 16,
   "id": "2665e3ff-40a8-4241-b333-f3dadb6e6a9d",
   "metadata": {},
   "outputs": [
    {
     "data": {
      "text/html": [
       "<pre style=\"white-space:pre;overflow-x:auto;line-height:normal;font-family:Menlo,'DejaVu Sans Mono',consolas,'Courier New',monospace\"><span style=\"color: #0000ff; text-decoration-color: #0000ff\">[</span>\n",
       "    <span style=\"color: #0000ff; text-decoration-color: #0000ff\">(</span><span style=\"font-weight: bold\">&lt;</span><span style=\"color: #ff00ff; text-decoration-color: #ff00ff; font-weight: bold\">Site</span><span style=\"color: #000000; text-decoration-color: #000000\"> n°</span><span style=\"color: #800080; text-decoration-color: #800080\">1</span><span style=\"color: #000000; text-decoration-color: #000000\"> - GigaWatt Llama Ranch&gt;,</span><span style=\"color: #0000ff; text-decoration-color: #0000ff\">)</span><span style=\"color: #000000; text-decoration-color: #000000\">,</span>\n",
       "<span style=\"color: #000000; text-decoration-color: #000000\">    </span><span style=\"color: #0000ff; text-decoration-color: #0000ff\">(</span><span style=\"color: #000000; text-decoration-color: #000000\">&lt;Site n°</span><span style=\"color: #800080; text-decoration-color: #800080\">2</span><span style=\"color: #000000; text-decoration-color: #000000\"> - Sunny Side of the Moon&gt;,</span><span style=\"color: #0000ff; text-decoration-color: #0000ff\">)</span><span style=\"color: #000000; text-decoration-color: #000000\">,</span>\n",
       "<span style=\"color: #000000; text-decoration-color: #000000\">    </span><span style=\"color: #0000ff; text-decoration-color: #0000ff\">(</span><span style=\"color: #000000; text-decoration-color: #000000\">&lt;Site n°</span><span style=\"color: #800080; text-decoration-color: #800080\">3</span><span style=\"color: #000000; text-decoration-color: #000000\"> - River Dance Powerhouse&gt;,</span><span style=\"color: #0000ff; text-decoration-color: #0000ff\">)</span><span style=\"color: #000000; text-decoration-color: #000000\">,</span>\n",
       "<span style=\"color: #000000; text-decoration-color: #000000\">    </span><span style=\"color: #0000ff; text-decoration-color: #0000ff\">(</span><span style=\"color: #000000; text-decoration-color: #000000\">&lt;Site n°</span><span style=\"color: #800080; text-decoration-color: #800080\">4</span><span style=\"color: #000000; text-decoration-color: #000000\"> - Turbine Nation Offshore&gt;,</span><span style=\"color: #0000ff; text-decoration-color: #0000ff\">)</span><span style=\"color: #000000; text-decoration-color: #000000\">,</span>\n",
       "<span style=\"color: #000000; text-decoration-color: #000000\">    </span><span style=\"color: #0000ff; text-decoration-color: #0000ff\">(</span><span style=\"color: #000000; text-decoration-color: #000000\">&lt;Site n°</span><span style=\"color: #800080; text-decoration-color: #800080\">5</span><span style=\"color: #000000; text-decoration-color: #000000\"> - Sunshine &amp; Chill Canopy&gt;,</span><span style=\"color: #0000ff; text-decoration-color: #0000ff\">)</span><span style=\"color: #000000; text-decoration-color: #000000\">,</span>\n",
       "<span style=\"color: #000000; text-decoration-color: #000000\">    </span><span style=\"color: #0000ff; text-decoration-color: #0000ff\">(</span><span style=\"color: #000000; text-decoration-color: #000000\">&lt;Site n°</span><span style=\"color: #800080; text-decoration-color: #800080\">6</span><span style=\"color: #000000; text-decoration-color: #000000\"> - Watts in the Attic&gt;,</span><span style=\"color: #0000ff; text-decoration-color: #0000ff\">)</span><span style=\"color: #000000; text-decoration-color: #000000\">,</span>\n",
       "<span style=\"color: #000000; text-decoration-color: #000000\">    </span><span style=\"color: #0000ff; text-decoration-color: #0000ff\">(</span><span style=\"color: #000000; text-decoration-color: #000000\">&lt;Site n°</span><span style=\"color: #800080; text-decoration-color: #800080\">7</span><span style=\"color: #000000; text-decoration-color: #000000\"> - Flow like a River&gt;,</span><span style=\"color: #0000ff; text-decoration-color: #0000ff\">)</span><span style=\"color: #000000; text-decoration-color: #000000\">,</span>\n",
       "<span style=\"color: #000000; text-decoration-color: #000000\">    </span><span style=\"color: #0000ff; text-decoration-color: #0000ff\">(</span><span style=\"color: #000000; text-decoration-color: #000000\">&lt;Site n°</span><span style=\"color: #800080; text-decoration-color: #800080\">8</span><span style=\"color: #000000; text-decoration-color: #000000\"> - Juicy Biomass Co-op&gt;,</span><span style=\"color: #0000ff; text-decoration-color: #0000ff\">)</span><span style=\"color: #000000; text-decoration-color: #000000\">,</span>\n",
       "<span style=\"color: #000000; text-decoration-color: #000000\">    </span><span style=\"color: #0000ff; text-decoration-color: #0000ff\">(</span><span style=\"color: #000000; text-decoration-color: #000000\">&lt;Site n°</span><span style=\"color: #800080; text-decoration-color: #800080\">9</span><span style=\"color: #000000; text-decoration-color: #000000\"> - Offshore Avengers&gt;,</span><span style=\"color: #0000ff; text-decoration-color: #0000ff\">)</span><span style=\"color: #000000; text-decoration-color: #000000\">,</span>\n",
       "<span style=\"color: #000000; text-decoration-color: #000000\">    </span><span style=\"color: #0000ff; text-decoration-color: #0000ff\">(</span><span style=\"color: #000000; text-decoration-color: #000000\">&lt;Site n°</span><span style=\"color: #800080; text-decoration-color: #800080\">10</span><span style=\"color: #000000; text-decoration-color: #000000\"> - Trash into Cash</span><span style=\"font-weight: bold\">&gt;</span>,<span style=\"color: #0000ff; text-decoration-color: #0000ff\">)</span>\n",
       "<span style=\"color: #0000ff; text-decoration-color: #0000ff\">]</span>\n",
       "</pre>\n"
      ],
      "text/plain": [
       "\u001b[94m[\u001b[0m\n",
       "    \u001b[94m(\u001b[0m\u001b[1m<\u001b[0m\u001b[1;95mSite\u001b[0m\u001b[39m n°\u001b[0m\u001b[35m1\u001b[0m\u001b[39m - GigaWatt Llama Ranch>,\u001b[0m\u001b[94m)\u001b[0m\u001b[39m,\u001b[0m\n",
       "\u001b[39m    \u001b[0m\u001b[94m(\u001b[0m\u001b[39m<Site n°\u001b[0m\u001b[35m2\u001b[0m\u001b[39m - Sunny Side of the Moon>,\u001b[0m\u001b[94m)\u001b[0m\u001b[39m,\u001b[0m\n",
       "\u001b[39m    \u001b[0m\u001b[94m(\u001b[0m\u001b[39m<Site n°\u001b[0m\u001b[35m3\u001b[0m\u001b[39m - River Dance Powerhouse>,\u001b[0m\u001b[94m)\u001b[0m\u001b[39m,\u001b[0m\n",
       "\u001b[39m    \u001b[0m\u001b[94m(\u001b[0m\u001b[39m<Site n°\u001b[0m\u001b[35m4\u001b[0m\u001b[39m - Turbine Nation Offshore>,\u001b[0m\u001b[94m)\u001b[0m\u001b[39m,\u001b[0m\n",
       "\u001b[39m    \u001b[0m\u001b[94m(\u001b[0m\u001b[39m<Site n°\u001b[0m\u001b[35m5\u001b[0m\u001b[39m - Sunshine & Chill Canopy>,\u001b[0m\u001b[94m)\u001b[0m\u001b[39m,\u001b[0m\n",
       "\u001b[39m    \u001b[0m\u001b[94m(\u001b[0m\u001b[39m<Site n°\u001b[0m\u001b[35m6\u001b[0m\u001b[39m - Watts in the Attic>,\u001b[0m\u001b[94m)\u001b[0m\u001b[39m,\u001b[0m\n",
       "\u001b[39m    \u001b[0m\u001b[94m(\u001b[0m\u001b[39m<Site n°\u001b[0m\u001b[35m7\u001b[0m\u001b[39m - Flow like a River>,\u001b[0m\u001b[94m)\u001b[0m\u001b[39m,\u001b[0m\n",
       "\u001b[39m    \u001b[0m\u001b[94m(\u001b[0m\u001b[39m<Site n°\u001b[0m\u001b[35m8\u001b[0m\u001b[39m - Juicy Biomass Co-op>,\u001b[0m\u001b[94m)\u001b[0m\u001b[39m,\u001b[0m\n",
       "\u001b[39m    \u001b[0m\u001b[94m(\u001b[0m\u001b[39m<Site n°\u001b[0m\u001b[35m9\u001b[0m\u001b[39m - Offshore Avengers>,\u001b[0m\u001b[94m)\u001b[0m\u001b[39m,\u001b[0m\n",
       "\u001b[39m    \u001b[0m\u001b[94m(\u001b[0m\u001b[39m<Site n°\u001b[0m\u001b[35m10\u001b[0m\u001b[39m - Trash into Cash\u001b[0m\u001b[1m>\u001b[0m,\u001b[94m)\u001b[0m\n",
       "\u001b[94m]\u001b[0m\n"
      ]
     },
     "metadata": {},
     "output_type": "display_data"
    }
   ],
   "source": [
    "# example query sites\n",
    "sites_query = sa.select(m.Site)\n",
    "sites = session.execute(sites_query).all()\n",
    "print(sites[:10])"
   ]
  },
  {
   "cell_type": "markdown",
   "id": "4f96c641",
   "metadata": {},
   "source": [
    "### Question 1 :\n",
    "\n",
    "Based on all the sites in the db, make a summary of the modelled data. Please choose the best metrics to display and best grouping to do. (count, sum on some attribute grouped by another attribute etc...)"
   ]
  },
  {
   "cell_type": "markdown",
   "id": "d02c7cbe",
   "metadata": {},
   "source": []
  },
  {
   "cell_type": "code",
   "execution_count": null,
   "id": "5095a054-5bc4-437a-a86b-f2a67264d667",
   "metadata": {},
   "outputs": [],
   "source": [
    "# Do your code here"
   ]
  },
  {
   "cell_type": "markdown",
   "id": "bccd9f0a",
   "metadata": {},
   "source": [
    "### Question 2: \n",
    "Could you plot a map and tell in which coutries are all the sites ? \n",
    "Is there any pb with a site ?"
   ]
  },
  {
   "cell_type": "code",
   "execution_count": null,
   "id": "46d52e1e",
   "metadata": {},
   "outputs": [],
   "source": [
    "# Code here"
   ]
  },
  {
   "cell_type": "markdown",
   "id": "7b810650",
   "metadata": {},
   "source": [
    "### Question 3:\n",
    "- Get me sites that have timeseries configured. \n",
    "- which site has contract defined ?"
   ]
  },
  {
   "cell_type": "code",
   "execution_count": null,
   "id": "259bf9e9",
   "metadata": {},
   "outputs": [],
   "source": [
    "# Code here"
   ]
  },
  {
   "cell_type": "markdown",
   "id": "c599c5cf",
   "metadata": {},
   "source": [
    "### Question 4:\n",
    "Focus on site with contracts\n",
    "\n",
    "If you were to analyse the contracts, choose one that you would focus to leverage the most k€, why ?"
   ]
  },
  {
   "cell_type": "code",
   "execution_count": null,
   "id": "cfcc1ea1",
   "metadata": {},
   "outputs": [],
   "source": [
    "# Code here"
   ]
  },
  {
   "cell_type": "markdown",
   "id": "1c275c04",
   "metadata": {},
   "source": [
    "### Question 5:\n",
    "Timeseries : \n",
    "- Could you plot monthly production & financial report for the sites that have timeseries ?"
   ]
  },
  {
   "cell_type": "code",
   "execution_count": null,
   "id": "1df86bdb",
   "metadata": {},
   "outputs": [],
   "source": [
    "# Code here"
   ]
  }
 ],
 "metadata": {
  "kernelspec": {
   "display_name": "Python 3 (ipykernel)",
   "language": "python",
   "name": "python3"
  },
  "language_info": {
   "codemirror_mode": {
    "name": "ipython",
    "version": 3
   },
   "file_extension": ".py",
   "mimetype": "text/x-python",
   "name": "python",
   "nbconvert_exporter": "python",
   "pygments_lexer": "ipython3",
   "version": "3.12.6"
  }
 },
 "nbformat": 4,
 "nbformat_minor": 5
}
