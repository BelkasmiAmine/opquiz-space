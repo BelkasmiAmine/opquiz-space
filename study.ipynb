{
 "cells": [
  {
   "cell_type": "code",
   "execution_count": 3,
   "id": "7266ae1e-5b6a-4e63-9032-6aa5d73bb0b4",
   "metadata": {},
   "outputs": [],
   "source": [
    "import models as m\n",
    "import sqlalchemy as sa\n",
    "\n",
    "engine = sa.create_engine(\"sqlite:///quiz.db\")"
   ]
  },
  {
   "cell_type": "code",
   "execution_count": 4,
   "id": "2665e3ff-40a8-4241-b333-f3dadb6e6a9d",
   "metadata": {},
   "outputs": [
    {
     "ename": "LookupError",
     "evalue": "'Solar' is not among the defined enum values. Enum name: techno. Possible values: wind_turbin.., wind_turbin.., solar_field.., ..., cogeneratio..",
     "output_type": "error",
     "traceback": [
      "\u001b[0;31m---------------------------------------------------------------------------\u001b[0m",
      "\u001b[0;31mKeyError\u001b[0m                                  Traceback (most recent call last)",
      "File \u001b[0;32m~/src/opquiz/.venv/lib/python3.12/site-packages/sqlalchemy/sql/sqltypes.py:1619\u001b[0m, in \u001b[0;36mEnum._object_value_for_elem\u001b[0;34m(self, elem)\u001b[0m\n\u001b[1;32m   1618\u001b[0m \u001b[38;5;28;01mtry\u001b[39;00m:\n\u001b[0;32m-> 1619\u001b[0m     \u001b[38;5;28;01mreturn\u001b[39;00m \u001b[38;5;28;43mself\u001b[39;49m\u001b[38;5;241;43m.\u001b[39;49m\u001b[43m_object_lookup\u001b[49m\u001b[43m[\u001b[49m\u001b[43melem\u001b[49m\u001b[43m]\u001b[49m\n\u001b[1;32m   1620\u001b[0m \u001b[38;5;28;01mexcept\u001b[39;00m \u001b[38;5;167;01mKeyError\u001b[39;00m \u001b[38;5;28;01mas\u001b[39;00m err:\n",
      "\u001b[0;31mKeyError\u001b[0m: 'Solar'",
      "\nThe above exception was the direct cause of the following exception:\n",
      "\u001b[0;31mLookupError\u001b[0m                               Traceback (most recent call last)",
      "Cell \u001b[0;32mIn[4], line 4\u001b[0m\n\u001b[1;32m      2\u001b[0m site_query \u001b[38;5;241m=\u001b[39m sa\u001b[38;5;241m.\u001b[39mselect(m\u001b[38;5;241m.\u001b[39mSite)\n\u001b[1;32m      3\u001b[0m \u001b[38;5;28;01mwith\u001b[39;00m engine\u001b[38;5;241m.\u001b[39mconnect() \u001b[38;5;28;01mas\u001b[39;00m conn:\n\u001b[0;32m----> 4\u001b[0m     sites \u001b[38;5;241m=\u001b[39m \u001b[43mconn\u001b[49m\u001b[38;5;241;43m.\u001b[39;49m\u001b[43mexecute\u001b[49m\u001b[43m(\u001b[49m\u001b[43msite_query\u001b[49m\u001b[43m)\u001b[49m\u001b[38;5;241;43m.\u001b[39;49m\u001b[43mfetchall\u001b[49m\u001b[43m(\u001b[49m\u001b[43m)\u001b[49m\n\u001b[1;32m      6\u001b[0m \u001b[38;5;28mprint\u001b[39m(sites)\n",
      "File \u001b[0;32m~/src/opquiz/.venv/lib/python3.12/site-packages/sqlalchemy/engine/result.py:1317\u001b[0m, in \u001b[0;36mResult.fetchall\u001b[0;34m(self)\u001b[0m\n\u001b[1;32m   1314\u001b[0m \u001b[38;5;28;01mdef\u001b[39;00m \u001b[38;5;21mfetchall\u001b[39m(\u001b[38;5;28mself\u001b[39m) \u001b[38;5;241m-\u001b[39m\u001b[38;5;241m>\u001b[39m Sequence[Row[_TP]]:\n\u001b[1;32m   1315\u001b[0m \u001b[38;5;250m    \u001b[39m\u001b[38;5;124;03m\"\"\"A synonym for the :meth:`_engine.Result.all` method.\"\"\"\u001b[39;00m\n\u001b[0;32m-> 1317\u001b[0m     \u001b[38;5;28;01mreturn\u001b[39;00m \u001b[38;5;28;43mself\u001b[39;49m\u001b[38;5;241;43m.\u001b[39;49m\u001b[43m_allrows\u001b[49m\u001b[43m(\u001b[49m\u001b[43m)\u001b[49m\n",
      "File \u001b[0;32m~/src/opquiz/.venv/lib/python3.12/site-packages/sqlalchemy/engine/result.py:551\u001b[0m, in \u001b[0;36mResultInternal._allrows\u001b[0;34m(self)\u001b[0m\n\u001b[1;32m    549\u001b[0m made_rows: List[_InterimRowType[_R]]\n\u001b[1;32m    550\u001b[0m \u001b[38;5;28;01mif\u001b[39;00m make_row:\n\u001b[0;32m--> 551\u001b[0m     made_rows \u001b[38;5;241m=\u001b[39m [\u001b[43mmake_row\u001b[49m\u001b[43m(\u001b[49m\u001b[43mrow\u001b[49m\u001b[43m)\u001b[49m \u001b[38;5;28;01mfor\u001b[39;00m row \u001b[38;5;129;01min\u001b[39;00m rows]\n\u001b[1;32m    552\u001b[0m \u001b[38;5;28;01melse\u001b[39;00m:\n\u001b[1;32m    553\u001b[0m     made_rows \u001b[38;5;241m=\u001b[39m rows  \u001b[38;5;66;03m# type: ignore\u001b[39;00m\n",
      "File \u001b[0;32mlib/sqlalchemy/cyextension/resultproxy.pyx:22\u001b[0m, in \u001b[0;36msqlalchemy.cyextension.resultproxy.BaseRow.__init__\u001b[0;34m()\u001b[0m\n",
      "File \u001b[0;32mlib/sqlalchemy/cyextension/resultproxy.pyx:79\u001b[0m, in \u001b[0;36msqlalchemy.cyextension.resultproxy._apply_processors\u001b[0;34m()\u001b[0m\n",
      "File \u001b[0;32m~/src/opquiz/.venv/lib/python3.12/site-packages/sqlalchemy/sql/sqltypes.py:1739\u001b[0m, in \u001b[0;36mEnum.result_processor.<locals>.process\u001b[0;34m(value)\u001b[0m\n\u001b[1;32m   1736\u001b[0m \u001b[38;5;28;01mif\u001b[39;00m parent_processor:\n\u001b[1;32m   1737\u001b[0m     value \u001b[38;5;241m=\u001b[39m parent_processor(value)\n\u001b[0;32m-> 1739\u001b[0m value \u001b[38;5;241m=\u001b[39m \u001b[38;5;28;43mself\u001b[39;49m\u001b[38;5;241;43m.\u001b[39;49m\u001b[43m_object_value_for_elem\u001b[49m\u001b[43m(\u001b[49m\u001b[43mvalue\u001b[49m\u001b[43m)\u001b[49m\n\u001b[1;32m   1740\u001b[0m \u001b[38;5;28;01mreturn\u001b[39;00m value\n",
      "File \u001b[0;32m~/src/opquiz/.venv/lib/python3.12/site-packages/sqlalchemy/sql/sqltypes.py:1621\u001b[0m, in \u001b[0;36mEnum._object_value_for_elem\u001b[0;34m(self, elem)\u001b[0m\n\u001b[1;32m   1619\u001b[0m     \u001b[38;5;28;01mreturn\u001b[39;00m \u001b[38;5;28mself\u001b[39m\u001b[38;5;241m.\u001b[39m_object_lookup[elem]\n\u001b[1;32m   1620\u001b[0m \u001b[38;5;28;01mexcept\u001b[39;00m \u001b[38;5;167;01mKeyError\u001b[39;00m \u001b[38;5;28;01mas\u001b[39;00m err:\n\u001b[0;32m-> 1621\u001b[0m     \u001b[38;5;28;01mraise\u001b[39;00m \u001b[38;5;167;01mLookupError\u001b[39;00m(\n\u001b[1;32m   1622\u001b[0m         \u001b[38;5;124m\"\u001b[39m\u001b[38;5;124m'\u001b[39m\u001b[38;5;132;01m%s\u001b[39;00m\u001b[38;5;124m'\u001b[39m\u001b[38;5;124m is not among the defined enum values. \u001b[39m\u001b[38;5;124m\"\u001b[39m\n\u001b[1;32m   1623\u001b[0m         \u001b[38;5;124m\"\u001b[39m\u001b[38;5;124mEnum name: \u001b[39m\u001b[38;5;132;01m%s\u001b[39;00m\u001b[38;5;124m. Possible values: \u001b[39m\u001b[38;5;132;01m%s\u001b[39;00m\u001b[38;5;124m\"\u001b[39m\n\u001b[1;32m   1624\u001b[0m         \u001b[38;5;241m%\u001b[39m (\n\u001b[1;32m   1625\u001b[0m             elem,\n\u001b[1;32m   1626\u001b[0m             \u001b[38;5;28mself\u001b[39m\u001b[38;5;241m.\u001b[39mname,\n\u001b[1;32m   1627\u001b[0m             langhelpers\u001b[38;5;241m.\u001b[39mrepr_tuple_names(\u001b[38;5;28mself\u001b[39m\u001b[38;5;241m.\u001b[39menums),\n\u001b[1;32m   1628\u001b[0m         )\n\u001b[1;32m   1629\u001b[0m     ) \u001b[38;5;28;01mfrom\u001b[39;00m \u001b[38;5;21;01merr\u001b[39;00m\n",
      "\u001b[0;31mLookupError\u001b[0m: 'Solar' is not among the defined enum values. Enum name: techno. Possible values: wind_turbin.., wind_turbin.., solar_field.., ..., cogeneratio.."
     ]
    }
   ],
   "source": [
    "# example query sites\n",
    "site_query = sa.select(m.Site)\n",
    "with engine.connect() as conn:\n",
    "    sites = conn.execute(site_query).fetchall()\n",
    "\n",
    "print(sites)"
   ]
  },
  {
   "cell_type": "code",
   "execution_count": null,
   "id": "5095a054-5bc4-437a-a86b-f2a67264d667",
   "metadata": {},
   "outputs": [],
   "source": []
  }
 ],
 "metadata": {
  "kernelspec": {
   "display_name": "Python 3 (ipykernel)",
   "language": "python",
   "name": "python3"
  },
  "language_info": {
   "codemirror_mode": {
    "name": "ipython",
    "version": 3
   },
   "file_extension": ".py",
   "mimetype": "text/x-python",
   "name": "python",
   "nbconvert_exporter": "python",
   "pygments_lexer": "ipython3",
   "version": "3.12.6"
  }
 },
 "nbformat": 4,
 "nbformat_minor": 5
}
