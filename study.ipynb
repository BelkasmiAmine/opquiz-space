{
 "cells": [
  {
   "cell_type": "markdown",
   "id": "e8c812ca",
   "metadata": {},
   "source": [
    "\n",
    "# Technical Test: Python and SQLAlchemy Proficiency\n",
    "\n",
    "## Objective\n",
    "\n",
    "This test is designed to assess your proficiency in Python programming and your understanding of Object-Relational Mapping (ORM) using SQLAlchemy. You will interact with a small database application in a Jupyter Notebook environment, showcasing your ability to manage and manipulate data effectively.\n",
    "\n",
    "## Test Environment\n",
    "\n",
    "The test will be conducted in a Jupyter Notebook hosted on GitHub. All necessary libraries, including SQLAlchemy, are pre-installed, and the environment is set up for you. You will work on a fork of the provided repository.\n",
    "\n",
    "## Test Overview\n",
    "\n",
    "You will complete a series of tasks that involve interacting with a small database application using Python and SQLAlchemy. The test will evaluate your ability to:\n",
    "\n",
    "1. **Implement ORM Models**: Create Python classes that map to database tables using SQLAlchemy ORM, including fields, relationships, and constraints.\n",
    "\n",
    "2. **Perform CRUD Operations**: Write Python code to perform Create, Read, Update, and Delete operations on the database using SQLAlchemy.\n",
    "\n",
    "3. **Query Optimization**: Demonstrate your ability to write efficient queries, utilizing SQLAlchemy features to optimize database access.\n",
    "\n",
    "4. **Handle Transactions**: Implement transaction management to ensure data integrity during complex operations.\n",
    "\n",
    "5. **Documentation and Code Quality**: Provide clear documentation and adhere to best practices in code structure and style.\n",
    "\n",
    "## Instructions\n",
    "\n",
    "1. **Fork the Repository**: Start by forking the provided GitHub repository to your own account.\n",
    "\n",
    "2. **Access the Jupyter Notebook**: Open the Jupyter Notebook in your forked repository to begin the test.\n",
    "\n",
    "3. **Complete the Tasks**: Follow the instructions in the notebook to complete each task. Ensure your code is functional and meets the specified requirements.\n",
    "\n",
    "4. **Use SQLAlchemy Documentation**: Refer to the [SQLAlchemy documentation](https://docs.sqlalchemy.org) as needed to assist with your implementation.\n",
    "\n",
    "5. **Commit Your Changes**: Once you have completed the tasks, commit your changes to your forked repository.\n",
    "\n",
    "6. **Submit Your Test**: Notify us by providing a link to your forked repository with your completed test.\n",
    "\n",
    "## Evaluation Criteria\n",
    "\n",
    "-  **Correctness**: The solution should meet all specified requirements and perform all operations correctly.\n",
    "-  **Code Quality**: Code should be clean, well-organized, and follow Python best practices.\n",
    "-  **Efficiency**: Solutions should be optimized for performance, especially in the context of database operations.\n",
    "-  **Problem Solving**: Demonstrated ability to effectively solve problems and make sound design decisions.\n",
    "-  **Documentation**: Clear and concise documentation that helps reviewers understand your approach and implementation.\n",
    "\n",
    "We look forward to reviewing your work and assessing your potential to contribute to our development team."
   ]
  },
  {
   "cell_type": "code",
   "execution_count": null,
   "id": "7266ae1e-5b6a-4e63-9032-6aa5d73bb0b4",
   "metadata": {},
   "outputs": [],
   "source": [
    "import models as m\n",
    "import sqlalchemy as sa\n",
    "\n",
    "# First, let's connect to the database\n",
    "engine = sa.create_engine(\"sqlite:///quiz.db\")\n",
    "SessionMaker = sa.orm.sessionmaker(autocommit=False, autoflush=False, bind=engine)\n",
    "session = SessionMaker()"
   ]
  },
  {
   "cell_type": "code",
   "execution_count": null,
   "id": "2665e3ff-40a8-4241-b333-f3dadb6e6a9d",
   "metadata": {},
   "outputs": [],
   "source": [
    "# example query sites\n",
    "sites_query = sa.select(m.Site).limit(10)\n",
    "sites = list(session.execute(sites_query).scalars())\n",
    "print(sites)"
   ]
  },
  {
   "cell_type": "markdown",
   "id": "4f96c641",
   "metadata": {},
   "source": [
    "### Question 1 :\n",
    "\n",
    "Based on all the sites in the db, make a summary of the modelled data. Please choose the best metrics to display and best grouping to do. (count, sum on some attribute grouped by another attribute etc...)"
   ]
  },
  {
   "cell_type": "code",
   "execution_count": null,
   "id": "5095a054-5bc4-437a-a86b-f2a67264d667",
   "metadata": {},
   "outputs": [],
   "source": [
    "# Code here"
   ]
  },
  {
   "cell_type": "markdown",
   "id": "bccd9f0a",
   "metadata": {},
   "source": [
    "### Question 2: \n",
    "Could you plot a map and tell in which coutries are all the sites ? \n",
    "Is there any pb with a site ?"
   ]
  },
  {
   "cell_type": "code",
   "execution_count": null,
   "id": "46d52e1e",
   "metadata": {},
   "outputs": [],
   "source": [
    "# Code here"
   ]
  },
  {
   "cell_type": "markdown",
   "id": "7b810650",
   "metadata": {},
   "source": [
    "### Question 3:\n",
    "- Get me sites that have timeseries configured. \n",
    "- which site has contract defined ?"
   ]
  },
  {
   "cell_type": "code",
   "execution_count": null,
   "id": "259bf9e9",
   "metadata": {},
   "outputs": [],
   "source": [
    "# Code here"
   ]
  },
  {
   "cell_type": "markdown",
   "id": "c599c5cf",
   "metadata": {},
   "source": [
    "### Question 4:\n",
    "Focus on site with contracts\n",
    "\n",
    "If you were to analyse the contracts, choose one that you would focus to leverage the most k€, why ?"
   ]
  },
  {
   "cell_type": "code",
   "execution_count": null,
   "id": "cfcc1ea1",
   "metadata": {},
   "outputs": [],
   "source": [
    "# Code here"
   ]
  },
  {
   "cell_type": "markdown",
   "id": "1c275c04",
   "metadata": {},
   "source": [
    "### Question 5:\n",
    "Timeseries : \n",
    "- Could you plot monthly production & financial report for the sites that have timeseries ?"
   ]
  },
  {
   "cell_type": "code",
   "execution_count": null,
   "id": "1df86bdb",
   "metadata": {},
   "outputs": [],
   "source": [
    "# Code here"
   ]
  }
 ],
 "metadata": {
  "kernelspec": {
   "display_name": "Python 3 (ipykernel)",
   "language": "python",
   "name": "python3"
  },
  "language_info": {
   "codemirror_mode": {
    "name": "ipython",
    "version": 3
   },
   "file_extension": ".py",
   "mimetype": "text/x-python",
   "name": "python",
   "nbconvert_exporter": "python",
   "pygments_lexer": "ipython3",
   "version": "3.12.6"
  }
 },
 "nbformat": 4,
 "nbformat_minor": 5
}
